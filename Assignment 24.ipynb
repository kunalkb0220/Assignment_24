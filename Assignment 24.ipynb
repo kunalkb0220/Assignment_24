{
 "cells": [
  {
   "cell_type": "code",
   "execution_count": null,
   "id": "a32c30b3",
   "metadata": {},
   "outputs": [],
   "source": [
    "1. What is the relationship between def statements and lambda expressions ?\n",
    "\n",
    "The def keyword is used to define normal functions, while the lambda keyword \n",
    "is used to define anonymous functions. They are, however, limited to a single \n",
    "line of expression. They, like regular functions, can accept several parameters."
   ]
  },
  {
   "cell_type": "code",
   "execution_count": null,
   "id": "9c8baabd",
   "metadata": {},
   "outputs": [],
   "source": [
    "2. What is the benefit of lambda?\n",
    "\n",
    "Lambda enables you to use functions with pre-trained machine learning (ML) \n",
    "models to inject artiﬁcial intelligence into applications more easily. \n",
    "A single application programming interface (API) request can classify images,\n",
    "analyze videos, convert speech to text, perform natural language processing,\n",
    "and more."
   ]
  },
  {
   "cell_type": "code",
   "execution_count": null,
   "id": "35fde6c4",
   "metadata": {},
   "outputs": [],
   "source": [
    "3. Compare and contrast map, filter, and reduce.\n",
    "\n",
    "Essentially, these three functions allow you to apply a function across a \n",
    "number of iterables, in one fell swoop. map and filter come built-in with \n",
    "Python (in the __builtins__ module) and require no importing. reduce , \n",
    "however, needs to be imported as it resides in the functools module."
   ]
  },
  {
   "cell_type": "code",
   "execution_count": null,
   "id": "bc7c41a4",
   "metadata": {},
   "outputs": [],
   "source": [
    "4. What are function annotations, and how are they used?\n",
    "\n",
    "Function annotations are arbitrary python expressions that are associated \n",
    "with various part of functions. These expressions are evaluated at compile \n",
    "time and have no life in python's runtime environment. Python does not \n",
    "attach any meaning to these annotations."
   ]
  },
  {
   "cell_type": "code",
   "execution_count": null,
   "id": "e95c61cc",
   "metadata": {},
   "outputs": [],
   "source": [
    "5. What are recursive functions, and how are they used?\n",
    "\n",
    "Recursive Function is a function that repeats or uses its own previous term \n",
    "to calculate subsequent terms and thus forms a sequence of terms."
   ]
  },
  {
   "cell_type": "code",
   "execution_count": null,
   "id": "b62ac3fb",
   "metadata": {},
   "outputs": [],
   "source": [
    "6. What are some general design guidelines for coding functions?\n",
    "\n",
    "Safe: It can be used without causing harm.\n",
    "Secure: It can't be hacked.\n",
    "Reliable: It functions as it should, every time.\n",
    "Testable: It can be tested at the code level.\n",
    "Maintainable: It can be maintained, even as your codebase grows.\n",
    "Portable: It works the same in every environment."
   ]
  },
  {
   "cell_type": "code",
   "execution_count": null,
   "id": "9308fb90",
   "metadata": {},
   "outputs": [],
   "source": [
    "7. Name three or more ways that functions can communicate results to a caller.\n",
    "\n",
    "Some of the ways in which a function can communicate with the calling function is:\n",
    "\n",
    "1.print\n",
    "2.return\n",
    "3.yield"
   ]
  }
 ],
 "metadata": {
  "kernelspec": {
   "display_name": "Python 3 (ipykernel)",
   "language": "python",
   "name": "python3"
  },
  "language_info": {
   "codemirror_mode": {
    "name": "ipython",
    "version": 3
   },
   "file_extension": ".py",
   "mimetype": "text/x-python",
   "name": "python",
   "nbconvert_exporter": "python",
   "pygments_lexer": "ipython3",
   "version": "3.11.3"
  }
 },
 "nbformat": 4,
 "nbformat_minor": 5
}
